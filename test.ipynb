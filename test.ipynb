{
 "cells": [
  {
   "cell_type": "code",
   "id": "initial_id",
   "metadata": {
    "collapsed": true,
    "ExecuteTime": {
     "end_time": "2025-03-20T14:25:14.596939Z",
     "start_time": "2025-03-20T14:25:08.074584Z"
    }
   },
   "source": [
    "from trajdata import UnifiedDataset, AgentBatch\n",
    "from torch.utils.data import DataLoader\n",
    "\n",
    "dataset = UnifiedDataset(\n",
    "    desired_data=[\"waymoWithoutLib-waymo_train\"],\n",
    "    data_dirs={  #Remember to change this to match your filesystem!\n",
    "                \"waymoWithoutLib\": \"K:\\\\Master\\\\Waymo\\\\temp\",\n",
    "            },\n",
    "    verbose=True,\n",
    "\n",
    ")\n",
    "\n",
    "dataloader = DataLoader(\n",
    "            dataset,\n",
    "            batch_size=4,\n",
    "            shuffle=True,\n",
    "            collate_fn=dataset.get_collate_fn(),\n",
    "            num_workers=0,\n",
    ")\n",
    "\n",
    "i = 0\n",
    "batch: AgentBatch\n",
    "for batch in dataloader:\n",
    "    i += 1\n",
    "\n",
    "    batch.to(\"cuda\")\n",
    "\n",
    "    print(batch)\n",
    "\n",
    "    # self.assertIsInstance(batch.curr_agent_state, dataset.torch_state_type)\n",
    "    # self.assertIsInstance(batch.agent_hist, dataset.torch_obs_type)\n",
    "    # self.assertIsInstance(batch.agent_fut, dataset.torch_obs_type)\n",
    "    # self.assertIsInstance(batch.robot_fut, dataset.torch_obs_type)\n",
    "\n",
    "    if i == 5:\n",
    "        break"
   ],
   "outputs": [
    {
     "ename": "RuntimeError",
     "evalue": "Wrong dataset name. Please choose name from ['testing', 'testing_interactive', 'training', 'training_20s', 'validation', 'validation_interactive']",
     "output_type": "error",
     "traceback": [
      "\u001B[1;31m---------------------------------------------------------------------------\u001B[0m",
      "\u001B[1;31mRuntimeError\u001B[0m                              Traceback (most recent call last)",
      "Cell \u001B[1;32mIn[1], line 4\u001B[0m\n\u001B[0;32m      1\u001B[0m \u001B[38;5;28;01mfrom\u001B[39;00m\u001B[38;5;250m \u001B[39m\u001B[38;5;21;01mtrajdata\u001B[39;00m\u001B[38;5;250m \u001B[39m\u001B[38;5;28;01mimport\u001B[39;00m UnifiedDataset, AgentBatch\n\u001B[0;32m      2\u001B[0m \u001B[38;5;28;01mfrom\u001B[39;00m\u001B[38;5;250m \u001B[39m\u001B[38;5;21;01mtorch\u001B[39;00m\u001B[38;5;21;01m.\u001B[39;00m\u001B[38;5;21;01mutils\u001B[39;00m\u001B[38;5;21;01m.\u001B[39;00m\u001B[38;5;21;01mdata\u001B[39;00m\u001B[38;5;250m \u001B[39m\u001B[38;5;28;01mimport\u001B[39;00m DataLoader\n\u001B[1;32m----> 4\u001B[0m dataset \u001B[38;5;241m=\u001B[39m \u001B[43mUnifiedDataset\u001B[49m\u001B[43m(\u001B[49m\n\u001B[0;32m      5\u001B[0m \u001B[43m    \u001B[49m\u001B[43mdesired_data\u001B[49m\u001B[38;5;241;43m=\u001B[39;49m\u001B[43m[\u001B[49m\u001B[38;5;124;43m\"\u001B[39;49m\u001B[38;5;124;43mwaymoWithoutLib\u001B[39;49m\u001B[38;5;124;43m\"\u001B[39;49m\u001B[43m]\u001B[49m\u001B[43m,\u001B[49m\n\u001B[0;32m      6\u001B[0m \u001B[43m    \u001B[49m\u001B[43mdata_dirs\u001B[49m\u001B[38;5;241;43m=\u001B[39;49m\u001B[43m{\u001B[49m\u001B[43m  \u001B[49m\u001B[38;5;66;43;03m#Remember to change this to match your filesystem!\u001B[39;49;00m\n\u001B[0;32m      7\u001B[0m \u001B[43m                \u001B[49m\u001B[38;5;124;43m\"\u001B[39;49m\u001B[38;5;124;43mwaymoWithoutLib\u001B[39;49m\u001B[38;5;124;43m\"\u001B[39;49m\u001B[43m:\u001B[49m\u001B[43m \u001B[49m\u001B[38;5;124;43m\"\u001B[39;49m\u001B[38;5;124;43mK:\u001B[39;49m\u001B[38;5;130;43;01m\\\\\u001B[39;49;00m\u001B[38;5;124;43mMaster\u001B[39;49m\u001B[38;5;130;43;01m\\\\\u001B[39;49;00m\u001B[38;5;124;43mWaymo\u001B[39;49m\u001B[38;5;130;43;01m\\\\\u001B[39;49;00m\u001B[38;5;124;43mtemp\u001B[39;49m\u001B[38;5;124;43m\"\u001B[39;49m\u001B[43m,\u001B[49m\n\u001B[0;32m      8\u001B[0m \u001B[43m            \u001B[49m\u001B[43m}\u001B[49m\u001B[43m,\u001B[49m\n\u001B[0;32m      9\u001B[0m \u001B[43m)\u001B[49m\n\u001B[0;32m     11\u001B[0m dataloader \u001B[38;5;241m=\u001B[39m DataLoader(\n\u001B[0;32m     12\u001B[0m             dataset,\n\u001B[0;32m     13\u001B[0m             batch_size\u001B[38;5;241m=\u001B[39m\u001B[38;5;241m4\u001B[39m,\n\u001B[1;32m   (...)\u001B[0m\n\u001B[0;32m     16\u001B[0m             num_workers\u001B[38;5;241m=\u001B[39m\u001B[38;5;241m0\u001B[39m,\n\u001B[0;32m     17\u001B[0m )\n\u001B[0;32m     19\u001B[0m i \u001B[38;5;241m=\u001B[39m \u001B[38;5;241m0\u001B[39m\n",
      "File \u001B[1;32m~\\PycharmProjects\\trajdata\\src\\trajdata\\dataset.py:307\u001B[0m, in \u001B[0;36mUnifiedDataset.__init__\u001B[1;34m(self, desired_data, scene_description_contains, centric, desired_dt, history_sec, future_sec, agent_interaction_distances, incl_robot_future, incl_raster_map, raster_map_params, incl_vector_map, vector_map_params, require_map_cache, only_types, only_predict, no_types, state_format, obs_format, standardize_data, standardize_derivatives, augmentations, max_agent_num, max_neighbor_num, ego_only, data_dirs, cache_type, cache_location, rebuild_cache, rebuild_maps, save_index, num_workers, verbose, extras, transforms, rank)\u001B[0m\n\u001B[0;32m    285\u001B[0m     all_maps_cached: \u001B[38;5;28mbool\u001B[39m \u001B[38;5;241m=\u001B[39m (\n\u001B[0;32m    286\u001B[0m         \u001B[38;5;129;01mnot\u001B[39;00m env\u001B[38;5;241m.\u001B[39mhas_maps\n\u001B[0;32m    287\u001B[0m         \u001B[38;5;129;01mor\u001B[39;00m \u001B[38;5;129;01mnot\u001B[39;00m require_map_cache\n\u001B[1;32m   (...)\u001B[0m\n\u001B[0;32m    296\u001B[0m         )\n\u001B[0;32m    297\u001B[0m     )\n\u001B[0;32m    299\u001B[0m \u001B[38;5;28;01mif\u001B[39;00m (\n\u001B[0;32m    300\u001B[0m     \u001B[38;5;129;01mnot\u001B[39;00m all_data_cached\n\u001B[0;32m    301\u001B[0m     \u001B[38;5;129;01mor\u001B[39;00m \u001B[38;5;129;01mnot\u001B[39;00m all_maps_cached\n\u001B[1;32m   (...)\u001B[0m\n\u001B[0;32m    305\u001B[0m     \u001B[38;5;66;03m# Loading dataset objects in case we don't have\u001B[39;00m\n\u001B[0;32m    306\u001B[0m     \u001B[38;5;66;03m# the desired data already cached.\u001B[39;00m\n\u001B[1;32m--> 307\u001B[0m     \u001B[43menv\u001B[49m\u001B[38;5;241;43m.\u001B[39;49m\u001B[43mload_dataset_obj\u001B[49m\u001B[43m(\u001B[49m\u001B[43mverbose\u001B[49m\u001B[38;5;241;43m=\u001B[39;49m\u001B[38;5;28;43mself\u001B[39;49m\u001B[38;5;241;43m.\u001B[39;49m\u001B[43mverbose\u001B[49m\u001B[43m)\u001B[49m\n\u001B[0;32m    309\u001B[0m     \u001B[38;5;28;01mif\u001B[39;00m (\n\u001B[0;32m    310\u001B[0m         rebuild_maps\n\u001B[0;32m    311\u001B[0m         \u001B[38;5;129;01mor\u001B[39;00m \u001B[38;5;129;01mnot\u001B[39;00m all_maps_cached\n\u001B[1;32m   (...)\u001B[0m\n\u001B[0;32m    315\u001B[0m     ):\n\u001B[0;32m    316\u001B[0m         \u001B[38;5;66;03m# Use only rank 0 process for caching when using multi-GPU torch training.\u001B[39;00m\n\u001B[0;32m    317\u001B[0m         \u001B[38;5;28;01mif\u001B[39;00m rank \u001B[38;5;241m==\u001B[39m \u001B[38;5;241m0\u001B[39m:\n",
      "File \u001B[1;32m~\\PycharmProjects\\trajdata\\src\\trajdata\\dataset_specific\\waymoFuck\\waymo_wolib_dataset.py:90\u001B[0m, in \u001B[0;36mWaymoWithoutLibDataset.load_dataset_obj\u001B[1;34m(self, verbose)\u001B[0m\n\u001B[0;32m     88\u001B[0m \u001B[38;5;28;01melif\u001B[39;00m \u001B[38;5;28mself\u001B[39m\u001B[38;5;241m.\u001B[39mname \u001B[38;5;241m==\u001B[39m \u001B[38;5;124m\"\u001B[39m\u001B[38;5;124mwaymo_test\u001B[39m\u001B[38;5;124m\"\u001B[39m:\n\u001B[0;32m     89\u001B[0m     dataset_name \u001B[38;5;241m=\u001B[39m \u001B[38;5;124m\"\u001B[39m\u001B[38;5;124mtesting\u001B[39m\u001B[38;5;124m\"\u001B[39m\n\u001B[1;32m---> 90\u001B[0m \u001B[38;5;28mself\u001B[39m\u001B[38;5;241m.\u001B[39mdataset_obj \u001B[38;5;241m=\u001B[39m \u001B[43mWaymoScenarios\u001B[49m\u001B[43m(\u001B[49m\n\u001B[0;32m     91\u001B[0m \u001B[43m    \u001B[49m\u001B[43mdataset_name\u001B[49m\u001B[38;5;241;43m=\u001B[39;49m\u001B[43mdataset_name\u001B[49m\u001B[43m,\u001B[49m\u001B[43m \u001B[49m\u001B[43msource_dir\u001B[49m\u001B[38;5;241;43m=\u001B[39;49m\u001B[38;5;28;43mself\u001B[39;49m\u001B[38;5;241;43m.\u001B[39;49m\u001B[43mmetadata\u001B[49m\u001B[38;5;241;43m.\u001B[39;49m\u001B[43mdata_dir\u001B[49m\n\u001B[0;32m     92\u001B[0m \u001B[43m\u001B[49m\u001B[43m)\u001B[49m\n",
      "File \u001B[1;32m~\\PycharmProjects\\trajdata\\src\\trajdata\\dataset_specific\\waymoFuck\\waymo_wolib_utils.py:64\u001B[0m, in \u001B[0;36mWaymoScenarios.__init__\u001B[1;34m(self, dataset_name, source_dir, download, split)\u001B[0m\n\u001B[0;32m     56\u001B[0m \u001B[38;5;28;01mdef\u001B[39;00m\u001B[38;5;250m \u001B[39m\u001B[38;5;21m__init__\u001B[39m(\n\u001B[0;32m     57\u001B[0m     \u001B[38;5;28mself\u001B[39m,\n\u001B[0;32m     58\u001B[0m     dataset_name: \u001B[38;5;28mstr\u001B[39m,\n\u001B[1;32m   (...)\u001B[0m\n\u001B[0;32m     61\u001B[0m     split: \u001B[38;5;28mbool\u001B[39m \u001B[38;5;241m=\u001B[39m \u001B[38;5;28;01mFalse\u001B[39;00m,\n\u001B[0;32m     62\u001B[0m ):\n\u001B[0;32m     63\u001B[0m     \u001B[38;5;28;01mif\u001B[39;00m dataset_name \u001B[38;5;129;01mnot\u001B[39;00m \u001B[38;5;129;01min\u001B[39;00m WAYMO_DATASET_NAMES:\n\u001B[1;32m---> 64\u001B[0m         \u001B[38;5;28;01mraise\u001B[39;00m \u001B[38;5;167;01mRuntimeError\u001B[39;00m(\n\u001B[0;32m     65\u001B[0m             \u001B[38;5;124m\"\u001B[39m\u001B[38;5;124mWrong dataset name. Please choose name from \u001B[39m\u001B[38;5;124m\"\u001B[39m\n\u001B[0;32m     66\u001B[0m             \u001B[38;5;241m+\u001B[39m \u001B[38;5;28mstr\u001B[39m(WAYMO_DATASET_NAMES)\n\u001B[0;32m     67\u001B[0m         )\n\u001B[0;32m     69\u001B[0m     \u001B[38;5;28mself\u001B[39m\u001B[38;5;241m.\u001B[39mname \u001B[38;5;241m=\u001B[39m dataset_name\n\u001B[0;32m     70\u001B[0m     \u001B[38;5;28mself\u001B[39m\u001B[38;5;241m.\u001B[39msource_dir \u001B[38;5;241m=\u001B[39m source_dir\n",
      "\u001B[1;31mRuntimeError\u001B[0m: Wrong dataset name. Please choose name from ['testing', 'testing_interactive', 'training', 'training_20s', 'validation', 'validation_interactive']"
     ]
    }
   ],
   "execution_count": 1
  },
  {
   "metadata": {},
   "cell_type": "code",
   "outputs": [],
   "execution_count": null,
   "source": "",
   "id": "118280a2f4fe8788"
  }
 ],
 "metadata": {
  "kernelspec": {
   "display_name": "Python 3",
   "language": "python",
   "name": "python3"
  },
  "language_info": {
   "codemirror_mode": {
    "name": "ipython",
    "version": 2
   },
   "file_extension": ".py",
   "mimetype": "text/x-python",
   "name": "python",
   "nbconvert_exporter": "python",
   "pygments_lexer": "ipython2",
   "version": "2.7.6"
  }
 },
 "nbformat": 4,
 "nbformat_minor": 5
}
